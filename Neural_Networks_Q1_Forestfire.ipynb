{
 "cells": [
  {
   "cell_type": "markdown",
   "metadata": {
    "id": "IubjMvRxDtu7"
   },
   "source": [
    "## 1. Importing necessary libraries"
   ]
  },
  {
   "cell_type": "code",
   "execution_count": 1,
   "metadata": {
    "executionInfo": {
     "elapsed": 5365,
     "status": "ok",
     "timestamp": 1651736596865,
     "user": {
      "displayName": "Mubashra Ali",
      "userId": "01834040292462078993"
     },
     "user_tz": -240
    },
    "id": "evHf60kQDZQY"
   },
   "outputs": [],
   "source": [
    "import pandas as pd\n",
    "import numpy as np\n",
    "import seaborn as sns\n",
    "from matplotlib import pyplot as plt\n",
    "from sklearn import preprocessing\n",
    "import tensorflow as tf\n",
    "import warnings\n",
    "warnings.filterwarnings('ignore')"
   ]
  },
  {
   "cell_type": "markdown",
   "metadata": {
    "id": "omWdPRboDyzS"
   },
   "source": [
    "## 2. Importing dataset"
   ]
  },
  {
   "cell_type": "code",
   "execution_count": 2,
   "metadata": {
    "id": "Iybm7Q6mD0sS"
   },
   "outputs": [
    {
     "data": {
      "text/html": [
       "<div>\n",
       "<style scoped>\n",
       "    .dataframe tbody tr th:only-of-type {\n",
       "        vertical-align: middle;\n",
       "    }\n",
       "\n",
       "    .dataframe tbody tr th {\n",
       "        vertical-align: top;\n",
       "    }\n",
       "\n",
       "    .dataframe thead th {\n",
       "        text-align: right;\n",
       "    }\n",
       "</style>\n",
       "<table border=\"1\" class=\"dataframe\">\n",
       "  <thead>\n",
       "    <tr style=\"text-align: right;\">\n",
       "      <th></th>\n",
       "      <th>month</th>\n",
       "      <th>day</th>\n",
       "      <th>FFMC</th>\n",
       "      <th>DMC</th>\n",
       "      <th>DC</th>\n",
       "      <th>ISI</th>\n",
       "      <th>temp</th>\n",
       "      <th>RH</th>\n",
       "      <th>wind</th>\n",
       "      <th>rain</th>\n",
       "      <th>...</th>\n",
       "      <th>monthfeb</th>\n",
       "      <th>monthjan</th>\n",
       "      <th>monthjul</th>\n",
       "      <th>monthjun</th>\n",
       "      <th>monthmar</th>\n",
       "      <th>monthmay</th>\n",
       "      <th>monthnov</th>\n",
       "      <th>monthoct</th>\n",
       "      <th>monthsep</th>\n",
       "      <th>size_category</th>\n",
       "    </tr>\n",
       "  </thead>\n",
       "  <tbody>\n",
       "    <tr>\n",
       "      <th>0</th>\n",
       "      <td>mar</td>\n",
       "      <td>fri</td>\n",
       "      <td>86.2</td>\n",
       "      <td>26.2</td>\n",
       "      <td>94.3</td>\n",
       "      <td>5.1</td>\n",
       "      <td>8.2</td>\n",
       "      <td>51</td>\n",
       "      <td>6.7</td>\n",
       "      <td>0.0</td>\n",
       "      <td>...</td>\n",
       "      <td>0</td>\n",
       "      <td>0</td>\n",
       "      <td>0</td>\n",
       "      <td>0</td>\n",
       "      <td>1</td>\n",
       "      <td>0</td>\n",
       "      <td>0</td>\n",
       "      <td>0</td>\n",
       "      <td>0</td>\n",
       "      <td>small</td>\n",
       "    </tr>\n",
       "    <tr>\n",
       "      <th>1</th>\n",
       "      <td>oct</td>\n",
       "      <td>tue</td>\n",
       "      <td>90.6</td>\n",
       "      <td>35.4</td>\n",
       "      <td>669.1</td>\n",
       "      <td>6.7</td>\n",
       "      <td>18.0</td>\n",
       "      <td>33</td>\n",
       "      <td>0.9</td>\n",
       "      <td>0.0</td>\n",
       "      <td>...</td>\n",
       "      <td>0</td>\n",
       "      <td>0</td>\n",
       "      <td>0</td>\n",
       "      <td>0</td>\n",
       "      <td>0</td>\n",
       "      <td>0</td>\n",
       "      <td>0</td>\n",
       "      <td>1</td>\n",
       "      <td>0</td>\n",
       "      <td>small</td>\n",
       "    </tr>\n",
       "    <tr>\n",
       "      <th>2</th>\n",
       "      <td>oct</td>\n",
       "      <td>sat</td>\n",
       "      <td>90.6</td>\n",
       "      <td>43.7</td>\n",
       "      <td>686.9</td>\n",
       "      <td>6.7</td>\n",
       "      <td>14.6</td>\n",
       "      <td>33</td>\n",
       "      <td>1.3</td>\n",
       "      <td>0.0</td>\n",
       "      <td>...</td>\n",
       "      <td>0</td>\n",
       "      <td>0</td>\n",
       "      <td>0</td>\n",
       "      <td>0</td>\n",
       "      <td>0</td>\n",
       "      <td>0</td>\n",
       "      <td>0</td>\n",
       "      <td>1</td>\n",
       "      <td>0</td>\n",
       "      <td>small</td>\n",
       "    </tr>\n",
       "    <tr>\n",
       "      <th>3</th>\n",
       "      <td>mar</td>\n",
       "      <td>fri</td>\n",
       "      <td>91.7</td>\n",
       "      <td>33.3</td>\n",
       "      <td>77.5</td>\n",
       "      <td>9.0</td>\n",
       "      <td>8.3</td>\n",
       "      <td>97</td>\n",
       "      <td>4.0</td>\n",
       "      <td>0.2</td>\n",
       "      <td>...</td>\n",
       "      <td>0</td>\n",
       "      <td>0</td>\n",
       "      <td>0</td>\n",
       "      <td>0</td>\n",
       "      <td>1</td>\n",
       "      <td>0</td>\n",
       "      <td>0</td>\n",
       "      <td>0</td>\n",
       "      <td>0</td>\n",
       "      <td>small</td>\n",
       "    </tr>\n",
       "    <tr>\n",
       "      <th>4</th>\n",
       "      <td>mar</td>\n",
       "      <td>sun</td>\n",
       "      <td>89.3</td>\n",
       "      <td>51.3</td>\n",
       "      <td>102.2</td>\n",
       "      <td>9.6</td>\n",
       "      <td>11.4</td>\n",
       "      <td>99</td>\n",
       "      <td>1.8</td>\n",
       "      <td>0.0</td>\n",
       "      <td>...</td>\n",
       "      <td>0</td>\n",
       "      <td>0</td>\n",
       "      <td>0</td>\n",
       "      <td>0</td>\n",
       "      <td>1</td>\n",
       "      <td>0</td>\n",
       "      <td>0</td>\n",
       "      <td>0</td>\n",
       "      <td>0</td>\n",
       "      <td>small</td>\n",
       "    </tr>\n",
       "  </tbody>\n",
       "</table>\n",
       "<p>5 rows × 31 columns</p>\n",
       "</div>"
      ],
      "text/plain": [
       "  month  day  FFMC   DMC     DC  ISI  temp  RH  wind  rain  ...  monthfeb  \\\n",
       "0   mar  fri  86.2  26.2   94.3  5.1   8.2  51   6.7   0.0  ...         0   \n",
       "1   oct  tue  90.6  35.4  669.1  6.7  18.0  33   0.9   0.0  ...         0   \n",
       "2   oct  sat  90.6  43.7  686.9  6.7  14.6  33   1.3   0.0  ...         0   \n",
       "3   mar  fri  91.7  33.3   77.5  9.0   8.3  97   4.0   0.2  ...         0   \n",
       "4   mar  sun  89.3  51.3  102.2  9.6  11.4  99   1.8   0.0  ...         0   \n",
       "\n",
       "   monthjan  monthjul  monthjun  monthmar  monthmay  monthnov  monthoct  \\\n",
       "0         0         0         0         1         0         0         0   \n",
       "1         0         0         0         0         0         0         1   \n",
       "2         0         0         0         0         0         0         1   \n",
       "3         0         0         0         1         0         0         0   \n",
       "4         0         0         0         1         0         0         0   \n",
       "\n",
       "   monthsep  size_category  \n",
       "0         0          small  \n",
       "1         0          small  \n",
       "2         0          small  \n",
       "3         0          small  \n",
       "4         0          small  \n",
       "\n",
       "[5 rows x 31 columns]"
      ]
     },
     "execution_count": 2,
     "metadata": {},
     "output_type": "execute_result"
    }
   ],
   "source": [
    "forest_data = pd.read_csv('forestfires.csv')\n",
    "forest_data.head(5)"
   ]
  },
  {
   "cell_type": "markdown",
   "metadata": {
    "id": "HMe3ikJxyQ5k"
   },
   "source": [
    "## 3. Initial Data Analysis"
   ]
  },
  {
   "cell_type": "code",
   "execution_count": 3,
   "metadata": {
    "id": "-gSXCfMVyTzB"
   },
   "outputs": [
    {
     "data": {
      "text/plain": [
       "(517, 31)"
      ]
     },
     "execution_count": 3,
     "metadata": {},
     "output_type": "execute_result"
    }
   ],
   "source": [
    "forest_data.shape"
   ]
  },
  {
   "cell_type": "code",
   "execution_count": 4,
   "metadata": {
    "id": "Xb9IFfK5D2zx"
   },
   "outputs": [],
   "source": [
    "fdata = forest_data.copy()"
   ]
  },
  {
   "cell_type": "code",
   "execution_count": 5,
   "metadata": {
    "id": "ydzhBBcAD2ul"
   },
   "outputs": [],
   "source": [
    "fdata.drop(labels=['month','day'],axis=1,inplace=True)"
   ]
  },
  {
   "cell_type": "code",
   "execution_count": 6,
   "metadata": {
    "id": "Y3Q2yDeID2tL"
   },
   "outputs": [],
   "source": [
    "mapping = {'small': 1, 'large': 2}"
   ]
  },
  {
   "cell_type": "code",
   "execution_count": 7,
   "metadata": {
    "id": "VI_ANtgaD2he"
   },
   "outputs": [],
   "source": [
    "fdata = fdata.replace(mapping)"
   ]
  },
  {
   "cell_type": "code",
   "execution_count": 8,
   "metadata": {
    "id": "2h5N0POdD2f5"
   },
   "outputs": [
    {
     "data": {
      "text/plain": [
       "FFMC             0\n",
       "DMC              0\n",
       "DC               0\n",
       "ISI              0\n",
       "temp             0\n",
       "RH               0\n",
       "wind             0\n",
       "rain             0\n",
       "area             0\n",
       "dayfri           0\n",
       "daymon           0\n",
       "daysat           0\n",
       "daysun           0\n",
       "daythu           0\n",
       "daytue           0\n",
       "daywed           0\n",
       "monthapr         0\n",
       "monthaug         0\n",
       "monthdec         0\n",
       "monthfeb         0\n",
       "monthjan         0\n",
       "monthjul         0\n",
       "monthjun         0\n",
       "monthmar         0\n",
       "monthmay         0\n",
       "monthnov         0\n",
       "monthoct         0\n",
       "monthsep         0\n",
       "size_category    0\n",
       "dtype: int64"
      ]
     },
     "execution_count": 8,
     "metadata": {},
     "output_type": "execute_result"
    }
   ],
   "source": [
    "fdata.isna().sum()"
   ]
  },
  {
   "cell_type": "code",
   "execution_count": 9,
   "metadata": {
    "id": "WyMlVkIOD2bB"
   },
   "outputs": [
    {
     "data": {
      "text/html": [
       "<div>\n",
       "<style scoped>\n",
       "    .dataframe tbody tr th:only-of-type {\n",
       "        vertical-align: middle;\n",
       "    }\n",
       "\n",
       "    .dataframe tbody tr th {\n",
       "        vertical-align: top;\n",
       "    }\n",
       "\n",
       "    .dataframe thead th {\n",
       "        text-align: right;\n",
       "    }\n",
       "</style>\n",
       "<table border=\"1\" class=\"dataframe\">\n",
       "  <thead>\n",
       "    <tr style=\"text-align: right;\">\n",
       "      <th></th>\n",
       "      <th>FFMC</th>\n",
       "      <th>DMC</th>\n",
       "      <th>DC</th>\n",
       "      <th>ISI</th>\n",
       "      <th>temp</th>\n",
       "      <th>RH</th>\n",
       "      <th>wind</th>\n",
       "      <th>rain</th>\n",
       "      <th>area</th>\n",
       "      <th>dayfri</th>\n",
       "      <th>...</th>\n",
       "      <th>monthfeb</th>\n",
       "      <th>monthjan</th>\n",
       "      <th>monthjul</th>\n",
       "      <th>monthjun</th>\n",
       "      <th>monthmar</th>\n",
       "      <th>monthmay</th>\n",
       "      <th>monthnov</th>\n",
       "      <th>monthoct</th>\n",
       "      <th>monthsep</th>\n",
       "      <th>size_category</th>\n",
       "    </tr>\n",
       "  </thead>\n",
       "  <tbody>\n",
       "    <tr>\n",
       "      <th>count</th>\n",
       "      <td>517.000000</td>\n",
       "      <td>517.000000</td>\n",
       "      <td>517.000000</td>\n",
       "      <td>517.000000</td>\n",
       "      <td>517.000000</td>\n",
       "      <td>517.000000</td>\n",
       "      <td>517.000000</td>\n",
       "      <td>517.000000</td>\n",
       "      <td>517.000000</td>\n",
       "      <td>517.000000</td>\n",
       "      <td>...</td>\n",
       "      <td>517.000000</td>\n",
       "      <td>517.000000</td>\n",
       "      <td>517.000000</td>\n",
       "      <td>517.000000</td>\n",
       "      <td>517.000000</td>\n",
       "      <td>517.000000</td>\n",
       "      <td>517.000000</td>\n",
       "      <td>517.000000</td>\n",
       "      <td>517.000000</td>\n",
       "      <td>517.000000</td>\n",
       "    </tr>\n",
       "    <tr>\n",
       "      <th>mean</th>\n",
       "      <td>90.644681</td>\n",
       "      <td>110.872340</td>\n",
       "      <td>547.940039</td>\n",
       "      <td>9.021663</td>\n",
       "      <td>18.889168</td>\n",
       "      <td>44.288201</td>\n",
       "      <td>4.017602</td>\n",
       "      <td>0.021663</td>\n",
       "      <td>12.847292</td>\n",
       "      <td>0.164410</td>\n",
       "      <td>...</td>\n",
       "      <td>0.038685</td>\n",
       "      <td>0.003868</td>\n",
       "      <td>0.061896</td>\n",
       "      <td>0.032882</td>\n",
       "      <td>0.104449</td>\n",
       "      <td>0.003868</td>\n",
       "      <td>0.001934</td>\n",
       "      <td>0.029014</td>\n",
       "      <td>0.332689</td>\n",
       "      <td>1.268859</td>\n",
       "    </tr>\n",
       "    <tr>\n",
       "      <th>std</th>\n",
       "      <td>5.520111</td>\n",
       "      <td>64.046482</td>\n",
       "      <td>248.066192</td>\n",
       "      <td>4.559477</td>\n",
       "      <td>5.806625</td>\n",
       "      <td>16.317469</td>\n",
       "      <td>1.791653</td>\n",
       "      <td>0.295959</td>\n",
       "      <td>63.655818</td>\n",
       "      <td>0.371006</td>\n",
       "      <td>...</td>\n",
       "      <td>0.193029</td>\n",
       "      <td>0.062137</td>\n",
       "      <td>0.241199</td>\n",
       "      <td>0.178500</td>\n",
       "      <td>0.306138</td>\n",
       "      <td>0.062137</td>\n",
       "      <td>0.043980</td>\n",
       "      <td>0.168007</td>\n",
       "      <td>0.471632</td>\n",
       "      <td>0.443796</td>\n",
       "    </tr>\n",
       "    <tr>\n",
       "      <th>min</th>\n",
       "      <td>18.700000</td>\n",
       "      <td>1.100000</td>\n",
       "      <td>7.900000</td>\n",
       "      <td>0.000000</td>\n",
       "      <td>2.200000</td>\n",
       "      <td>15.000000</td>\n",
       "      <td>0.400000</td>\n",
       "      <td>0.000000</td>\n",
       "      <td>0.000000</td>\n",
       "      <td>0.000000</td>\n",
       "      <td>...</td>\n",
       "      <td>0.000000</td>\n",
       "      <td>0.000000</td>\n",
       "      <td>0.000000</td>\n",
       "      <td>0.000000</td>\n",
       "      <td>0.000000</td>\n",
       "      <td>0.000000</td>\n",
       "      <td>0.000000</td>\n",
       "      <td>0.000000</td>\n",
       "      <td>0.000000</td>\n",
       "      <td>1.000000</td>\n",
       "    </tr>\n",
       "    <tr>\n",
       "      <th>25%</th>\n",
       "      <td>90.200000</td>\n",
       "      <td>68.600000</td>\n",
       "      <td>437.700000</td>\n",
       "      <td>6.500000</td>\n",
       "      <td>15.500000</td>\n",
       "      <td>33.000000</td>\n",
       "      <td>2.700000</td>\n",
       "      <td>0.000000</td>\n",
       "      <td>0.000000</td>\n",
       "      <td>0.000000</td>\n",
       "      <td>...</td>\n",
       "      <td>0.000000</td>\n",
       "      <td>0.000000</td>\n",
       "      <td>0.000000</td>\n",
       "      <td>0.000000</td>\n",
       "      <td>0.000000</td>\n",
       "      <td>0.000000</td>\n",
       "      <td>0.000000</td>\n",
       "      <td>0.000000</td>\n",
       "      <td>0.000000</td>\n",
       "      <td>1.000000</td>\n",
       "    </tr>\n",
       "    <tr>\n",
       "      <th>50%</th>\n",
       "      <td>91.600000</td>\n",
       "      <td>108.300000</td>\n",
       "      <td>664.200000</td>\n",
       "      <td>8.400000</td>\n",
       "      <td>19.300000</td>\n",
       "      <td>42.000000</td>\n",
       "      <td>4.000000</td>\n",
       "      <td>0.000000</td>\n",
       "      <td>0.520000</td>\n",
       "      <td>0.000000</td>\n",
       "      <td>...</td>\n",
       "      <td>0.000000</td>\n",
       "      <td>0.000000</td>\n",
       "      <td>0.000000</td>\n",
       "      <td>0.000000</td>\n",
       "      <td>0.000000</td>\n",
       "      <td>0.000000</td>\n",
       "      <td>0.000000</td>\n",
       "      <td>0.000000</td>\n",
       "      <td>0.000000</td>\n",
       "      <td>1.000000</td>\n",
       "    </tr>\n",
       "    <tr>\n",
       "      <th>75%</th>\n",
       "      <td>92.900000</td>\n",
       "      <td>142.400000</td>\n",
       "      <td>713.900000</td>\n",
       "      <td>10.800000</td>\n",
       "      <td>22.800000</td>\n",
       "      <td>53.000000</td>\n",
       "      <td>4.900000</td>\n",
       "      <td>0.000000</td>\n",
       "      <td>6.570000</td>\n",
       "      <td>0.000000</td>\n",
       "      <td>...</td>\n",
       "      <td>0.000000</td>\n",
       "      <td>0.000000</td>\n",
       "      <td>0.000000</td>\n",
       "      <td>0.000000</td>\n",
       "      <td>0.000000</td>\n",
       "      <td>0.000000</td>\n",
       "      <td>0.000000</td>\n",
       "      <td>0.000000</td>\n",
       "      <td>1.000000</td>\n",
       "      <td>2.000000</td>\n",
       "    </tr>\n",
       "    <tr>\n",
       "      <th>max</th>\n",
       "      <td>96.200000</td>\n",
       "      <td>291.300000</td>\n",
       "      <td>860.600000</td>\n",
       "      <td>56.100000</td>\n",
       "      <td>33.300000</td>\n",
       "      <td>100.000000</td>\n",
       "      <td>9.400000</td>\n",
       "      <td>6.400000</td>\n",
       "      <td>1090.840000</td>\n",
       "      <td>1.000000</td>\n",
       "      <td>...</td>\n",
       "      <td>1.000000</td>\n",
       "      <td>1.000000</td>\n",
       "      <td>1.000000</td>\n",
       "      <td>1.000000</td>\n",
       "      <td>1.000000</td>\n",
       "      <td>1.000000</td>\n",
       "      <td>1.000000</td>\n",
       "      <td>1.000000</td>\n",
       "      <td>1.000000</td>\n",
       "      <td>2.000000</td>\n",
       "    </tr>\n",
       "  </tbody>\n",
       "</table>\n",
       "<p>8 rows × 29 columns</p>\n",
       "</div>"
      ],
      "text/plain": [
       "             FFMC         DMC          DC         ISI        temp          RH  \\\n",
       "count  517.000000  517.000000  517.000000  517.000000  517.000000  517.000000   \n",
       "mean    90.644681  110.872340  547.940039    9.021663   18.889168   44.288201   \n",
       "std      5.520111   64.046482  248.066192    4.559477    5.806625   16.317469   \n",
       "min     18.700000    1.100000    7.900000    0.000000    2.200000   15.000000   \n",
       "25%     90.200000   68.600000  437.700000    6.500000   15.500000   33.000000   \n",
       "50%     91.600000  108.300000  664.200000    8.400000   19.300000   42.000000   \n",
       "75%     92.900000  142.400000  713.900000   10.800000   22.800000   53.000000   \n",
       "max     96.200000  291.300000  860.600000   56.100000   33.300000  100.000000   \n",
       "\n",
       "             wind        rain         area      dayfri  ...    monthfeb  \\\n",
       "count  517.000000  517.000000   517.000000  517.000000  ...  517.000000   \n",
       "mean     4.017602    0.021663    12.847292    0.164410  ...    0.038685   \n",
       "std      1.791653    0.295959    63.655818    0.371006  ...    0.193029   \n",
       "min      0.400000    0.000000     0.000000    0.000000  ...    0.000000   \n",
       "25%      2.700000    0.000000     0.000000    0.000000  ...    0.000000   \n",
       "50%      4.000000    0.000000     0.520000    0.000000  ...    0.000000   \n",
       "75%      4.900000    0.000000     6.570000    0.000000  ...    0.000000   \n",
       "max      9.400000    6.400000  1090.840000    1.000000  ...    1.000000   \n",
       "\n",
       "         monthjan    monthjul    monthjun    monthmar    monthmay    monthnov  \\\n",
       "count  517.000000  517.000000  517.000000  517.000000  517.000000  517.000000   \n",
       "mean     0.003868    0.061896    0.032882    0.104449    0.003868    0.001934   \n",
       "std      0.062137    0.241199    0.178500    0.306138    0.062137    0.043980   \n",
       "min      0.000000    0.000000    0.000000    0.000000    0.000000    0.000000   \n",
       "25%      0.000000    0.000000    0.000000    0.000000    0.000000    0.000000   \n",
       "50%      0.000000    0.000000    0.000000    0.000000    0.000000    0.000000   \n",
       "75%      0.000000    0.000000    0.000000    0.000000    0.000000    0.000000   \n",
       "max      1.000000    1.000000    1.000000    1.000000    1.000000    1.000000   \n",
       "\n",
       "         monthoct    monthsep  size_category  \n",
       "count  517.000000  517.000000     517.000000  \n",
       "mean     0.029014    0.332689       1.268859  \n",
       "std      0.168007    0.471632       0.443796  \n",
       "min      0.000000    0.000000       1.000000  \n",
       "25%      0.000000    0.000000       1.000000  \n",
       "50%      0.000000    0.000000       1.000000  \n",
       "75%      0.000000    1.000000       2.000000  \n",
       "max      1.000000    1.000000       2.000000  \n",
       "\n",
       "[8 rows x 29 columns]"
      ]
     },
     "execution_count": 9,
     "metadata": {},
     "output_type": "execute_result"
    }
   ],
   "source": [
    "fdata.describe(include='all')"
   ]
  },
  {
   "cell_type": "markdown",
   "metadata": {
    "id": "kAFhdkoMK2QW"
   },
   "source": [
    "**Visualization of Outliers**"
   ]
  },
  {
   "cell_type": "code",
   "execution_count": 10,
   "metadata": {
    "id": "EHiZt1_hD2Zu"
   },
   "outputs": [
    {
     "data": {
      "image/png": "[encoded data removed]",
      "text/plain": [
       "<Figure size 432x288 with 1 Axes>"
      ]
     },
     "metadata": {
      "needs_background": "light"
     },
     "output_type": "display_data"
    }
   ],
   "source": [
    "outliers = sns.boxplot(fdata['area'])             \n",
    "plt.show()"
   ]
  },
  {
   "cell_type": "markdown",
   "metadata": {
    "id": "9Nz8TFlYENnY"
   },
   "source": [
    "***Conclusion :-***\n",
    "- *Presence of 3 outliers in the given dataset*"
   ]
  },
  {
   "cell_type": "code",
   "execution_count": 11,
   "metadata": {
    "id": "zCHl0YWiD2UJ"
   },
   "outputs": [],
   "source": [
    "plt.rcParams['figure.figsize'] = 7,5"
   ]
  },
  {
   "cell_type": "code",
   "execution_count": 12,
   "metadata": {
    "id": "GlQ9Q8K9EeA3"
   },
   "outputs": [
    {
     "name": "stdout",
     "output_type": "stream",
     "text": [
      "Skew: 12.846933533934868\n",
      "Kurtosis: 194.1407210942299\n"
     ]
    },
    {
     "data": {
      "image/png": "[encoded data removed]",
      "text/plain": [
       "<Figure size 720x360 with 1 Axes>"
      ]
     },
     "metadata": {
      "needs_background": "light"
     },
     "output_type": "display_data"
    }
   ],
   "source": [
    "plt.figure(figsize=(10,5))\n",
    "print(\"Skew: {}\".format(fdata['area'].skew()))\n",
    "print(\"Kurtosis: {}\".format(fdata['area'].kurtosis()))\n",
    "ax = sns.kdeplot(fdata['area'],shade=True,color='y')\n",
    "plt.xticks([i for i in range(0,1200,50)])\n",
    "plt.show()"
   ]
  },
  {
   "cell_type": "markdown",
   "metadata": {
    "id": "N_N9pDP7EkfI"
   },
   "source": [
    "***Conclusion :-***\n",
    "- *Most of the area is under 100.* "
   ]
  },
  {
   "cell_type": "markdown",
   "metadata": {
    "id": "UBEOzorsEkWr"
   },
   "source": [
    "#### **Correlation Analysis**"
   ]
  },
  {
   "cell_type": "code",
   "execution_count": 13,
   "metadata": {
    "id": "Wh6qf9pdEd70"
   },
   "outputs": [],
   "source": [
    "corr = fdata[fdata.columns[0:11]].corr()"
   ]
  },
  {
   "cell_type": "markdown",
   "metadata": {
    "id": "bca9_uiHKqW-"
   },
   "source": [
    "**Visualization of Correlation Analysis**"
   ]
  },
  {
   "cell_type": "code",
   "execution_count": 14,
   "metadata": {
    "id": "QP5xmRyPEd6S"
   },
   "outputs": [
    {
     "data": {
      "image/png": "[encoded data removed]",
      "text/plain": [
       "<Figure size 504x360 with 2 Axes>"
      ]
     },
     "metadata": {
      "needs_background": "light"
     },
     "output_type": "display_data"
    }
   ],
   "source": [
    "sns.heatmap(corr,annot=True)              \n",
    "plt.show()"
   ]
  },
  {
   "cell_type": "markdown",
   "metadata": {
    "id": "JzZ0Wj3eFBwk"
   },
   "source": [
    "## 4. Data Preparation"
   ]
  },
  {
   "cell_type": "code",
   "execution_count": 15,
   "metadata": {
    "id": "Ig0BVWyREd1q"
   },
   "outputs": [],
   "source": [
    "X = np.array(fdata.drop(labels='size_category',axis=1))"
   ]
  },
  {
   "cell_type": "code",
   "execution_count": 16,
   "metadata": {
    "id": "HsGrloOrEd0I"
   },
   "outputs": [
    {
     "data": {
      "text/plain": [
       "array([[ 86.2,  26.2,  94.3, ...,   0. ,   0. ,   0. ],\n",
       "       [ 90.6,  35.4, 669.1, ...,   0. ,   1. ,   0. ],\n",
       "       [ 90.6,  43.7, 686.9, ...,   0. ,   1. ,   0. ],\n",
       "       ...,\n",
       "       [ 81.6,  56.7, 665.6, ...,   0. ,   0. ,   0. ],\n",
       "       [ 94.4, 146. , 614.7, ...,   0. ,   0. ,   0. ],\n",
       "       [ 79.5,   3. , 106.7, ...,   1. ,   0. ,   0. ]])"
      ]
     },
     "execution_count": 16,
     "metadata": {},
     "output_type": "execute_result"
    }
   ],
   "source": [
    "X"
   ]
  },
  {
   "cell_type": "code",
   "execution_count": 17,
   "metadata": {
    "id": "yNW9c6qHEdva"
   },
   "outputs": [],
   "source": [
    "y = np.array(fdata['size_category'])"
   ]
  },
  {
   "cell_type": "code",
   "execution_count": 18,
   "metadata": {
    "id": "6B8CE2BgEdt4"
   },
   "outputs": [],
   "source": [
    "def norm_func(i):\n",
    "    x = (i-i.min())/(i.max()-i.min())\n",
    "    return (x)"
   ]
  },
  {
   "cell_type": "code",
   "execution_count": 19,
   "metadata": {
    "id": "nZAkzapiGTtL"
   },
   "outputs": [],
   "source": [
    "X_norm = norm_func(X)"
   ]
  },
  {
   "cell_type": "markdown",
   "metadata": {
    "id": "sfH77_e_y5ST"
   },
   "source": [
    "## 5. Model Building"
   ]
  },
  {
   "cell_type": "code",
   "execution_count": 20,
   "metadata": {
    "id": "EWYIrEEDGTpq"
   },
   "outputs": [],
   "source": [
    "from sklearn.model_selection import train_test_split\n",
    "X_train,X_test,y_train,y_test= train_test_split(X_norm,y, test_size=0.2,stratify = y)"
   ]
  },
  {
   "cell_type": "markdown",
   "metadata": {
    "id": "TG_9pBWc-P6q"
   },
   "source": [
    "## 6. Model Training"
   ]
  },
  {
   "cell_type": "code",
   "execution_count": 21,
   "metadata": {
    "id": "a_zSnCXSGTm3"
   },
   "outputs": [],
   "source": [
    "from keras.models import Sequential\n",
    "from keras.layers import Dense, Activation,Layer"
   ]
  },
  {
   "cell_type": "code",
   "execution_count": 22,
   "metadata": {
    "id": "d-EF_lutJDvG"
   },
   "outputs": [],
   "source": [
    "model = Sequential()\n",
    "model.add(Dense(12, input_dim=28, activation='relu'))\n",
    "model.add(Dense(8, activation='relu'))\n",
    "model.add(Dense(1, activation='sigmoid'))"
   ]
  },
  {
   "cell_type": "code",
   "execution_count": 23,
   "metadata": {
    "id": "nQEFWfy0GTjU"
   },
   "outputs": [
    {
     "name": "stdout",
     "output_type": "stream",
     "text": [
      "Model: \"sequential\"\n",
      "_________________________________________________________________\n",
      "Layer (type)                 Output Shape              Param #   \n",
      "=================================================================\n",
      "dense (Dense)                (None, 12)                348       \n",
      "_________________________________________________________________\n",
      "dense_1 (Dense)              (None, 8)                 104       \n",
      "_________________________________________________________________\n",
      "dense_2 (Dense)              (None, 1)                 9         \n",
      "=================================================================\n",
      "Total params: 461\n",
      "Trainable params: 461\n",
      "Non-trainable params: 0\n",
      "_________________________________________________________________\n"
     ]
    }
   ],
   "source": [
    "model.summary()"
   ]
  },
  {
   "cell_type": "markdown",
   "metadata": {
    "id": "1eYUdDs2GvI-"
   },
   "source": [
    "## 7. Architecture compilation"
   ]
  },
  {
   "cell_type": "code",
   "execution_count": 24,
   "metadata": {
    "id": "kUEw9yZKGThc"
   },
   "outputs": [],
   "source": [
    "model.compile(loss='binary_crossentropy', optimizer='adam', metrics=['accuracy'])"
   ]
  },
  {
   "cell_type": "code",
   "execution_count": 25,
   "metadata": {
    "id": "ivrai-kyGTd4"
   },
   "outputs": [
    {
     "name": "stdout",
     "output_type": "stream",
     "text": [
      "Epoch 1/300\n",
      "42/42 [==============================] - 0s 1ms/step - loss: 0.5396 - accuracy: 0.7312\n",
      "Epoch 2/300\n",
      "42/42 [==============================] - 0s 1ms/step - loss: 0.2366 - accuracy: 0.7312\n",
      "Epoch 3/300\n",
      "42/42 [==============================] - 0s 1ms/step - loss: -0.1455 - accuracy: 0.7312\n",
      "Epoch 4/300\n",
      "42/42 [==============================] - 0s 1ms/step - loss: -0.5678 - accuracy: 0.7312\n",
      "Epoch 5/300\n",
      "42/42 [==============================] - 0s 2ms/step - loss: -0.9891 - accuracy: 0.7312\n",
      "Epoch 6/300\n",
      "42/42 [==============================] - 0s 2ms/step - loss: -1.4755 - accuracy: 0.7312\n",
      "Epoch 7/300\n",
      "42/42 [==============================] - 0s 2ms/step - loss: -2.0884 - accuracy: 0.7312\n",
      "Epoch 8/300\n",
      "42/42 [==============================] - 0s 2ms/step - loss: -2.9300 - accuracy: 0.7312\n",
      "Epoch 9/300\n",
      "42/42 [==============================] - 0s 2ms/step - loss: -4.0342 - accuracy: 0.7312\n",
      "Epoch 10/300\n",
      "42/42 [==============================] - 0s 2ms/step - loss: -5.4307 - accuracy: 0.7312\n",
      "Epoch 11/300\n",
      "42/42 [==============================] - 0s 2ms/step - loss: -7.2118 - accuracy: 0.7312\n",
      "Epoch 12/300\n",
      "42/42 [==============================] - 0s 2ms/step - loss: -9.2684 - accuracy: 0.7312\n",
      "Epoch 13/300\n",
      "42/42 [==============================] - 0s 2ms/step - loss: -11.7264 - accuracy: 0.7312\n",
      "Epoch 14/300\n",
      "42/42 [==============================] - 0s 2ms/step - loss: -14.6320 - accuracy: 0.7312\n",
      "Epoch 15/300\n",
      "42/42 [==============================] - 0s 2ms/step - loss: -18.0363 - accuracy: 0.7312\n",
      "Epoch 16/300\n",
      "42/42 [==============================] - 0s 2ms/step - loss: -22.0055 - accuracy: 0.7312\n",
      "Epoch 17/300\n",
      "42/42 [==============================] - 0s 2ms/step - loss: -26.5641 - accuracy: 0.7312\n",
      "Epoch 18/300\n",
      "42/42 [==============================] - 0s 2ms/step - loss: -31.7450 - accuracy: 0.7312\n",
      "Epoch 19/300\n",
      "42/42 [==============================] - 0s 2ms/step - loss: -37.3817 - accuracy: 0.7312\n",
      "Epoch 20/300\n",
      "42/42 [==============================] - 0s 2ms/step - loss: -43.4942 - accuracy: 0.7312\n",
      "Epoch 21/300\n",
      "42/42 [==============================] - 0s 2ms/step - loss: -50.4397 - accuracy: 0.7312\n",
      "Epoch 22/300\n",
      "42/42 [==============================] - 0s 2ms/step - loss: -57.6706 - accuracy: 0.7312\n",
      "Epoch 23/300\n",
      "42/42 [==============================] - 0s 2ms/step - loss: -65.9518 - accuracy: 0.7312\n",
      "Epoch 24/300\n",
      "42/42 [==============================] - 0s 2ms/step - loss: -74.7887 - accuracy: 0.7312\n",
      "Epoch 25/300\n",
      "42/42 [==============================] - 0s 1ms/step - loss: -84.5930 - accuracy: 0.7312\n",
      "Epoch 26/300\n",
      "42/42 [==============================] - 0s 2ms/step - loss: -94.9087 - accuracy: 0.7312\n",
      "Epoch 27/300\n",
      "42/42 [==============================] - 0s 2ms/step - loss: -105.6466 - accuracy: 0.7312\n",
      "Epoch 28/300\n",
      "42/42 [==============================] - 0s 2ms/step - loss: -117.3092 - accuracy: 0.7312\n",
      "Epoch 29/300\n",
      "42/42 [==============================] - 0s 2ms/step - loss: -130.0019 - accuracy: 0.7312\n",
      "Epoch 30/300\n",
      "42/42 [==============================] - 0s 2ms/step - loss: -143.3364 - accuracy: 0.7312\n",
      "Epoch 31/300\n",
      "42/42 [==============================] - 0s 2ms/step - loss: -157.4987 - accuracy: 0.7312\n",
      "Epoch 32/300\n",
      "42/42 [==============================] - 0s 2ms/step - loss: -172.6740 - accuracy: 0.7312\n",
      "Epoch 33/300\n",
      "42/42 [==============================] - 0s 2ms/step - loss: -188.0691 - accuracy: 0.7312\n",
      "Epoch 34/300\n",
      "42/42 [==============================] - 0s 2ms/step - loss: -204.9212 - accuracy: 0.7312\n",
      "Epoch 35/300\n",
      "42/42 [==============================] - 0s 2ms/step - loss: -222.3622 - accuracy: 0.7312\n",
      "Epoch 36/300\n",
      "42/42 [==============================] - 0s 2ms/step - loss: -241.1049 - accuracy: 0.7312\n",
      "Epoch 37/300\n",
      "42/42 [==============================] - 0s 2ms/step - loss: -260.2275 - accuracy: 0.7312\n",
      "Epoch 38/300\n",
      "42/42 [==============================] - 0s 2ms/step - loss: -279.7267 - accuracy: 0.7312\n",
      "Epoch 39/300\n",
      "42/42 [==============================] - 0s 2ms/step - loss: -300.8566 - accuracy: 0.7312\n",
      "Epoch 40/300\n",
      "42/42 [==============================] - 0s 1ms/step - loss: -322.1369 - accuracy: 0.7312\n",
      "Epoch 41/300\n",
      "42/42 [==============================] - 0s 1ms/step - loss: -344.6020 - accuracy: 0.7312\n",
      "Epoch 42/300\n",
      "42/42 [==============================] - 0s 2ms/step - loss: -367.1649 - accuracy: 0.7312\n",
      "Epoch 43/300\n",
      "42/42 [==============================] - 0s 2ms/step - loss: -391.5451 - accuracy: 0.7312\n",
      "Epoch 44/300\n",
      "42/42 [==============================] - 0s 2ms/step - loss: -416.7455 - accuracy: 0.7312\n",
      "Epoch 45/300\n",
      "42/42 [==============================] - 0s 2ms/step - loss: -442.1045 - accuracy: 0.7312\n",
      "Epoch 46/300\n",
      "42/42 [==============================] - 0s 2ms/step - loss: -468.9048 - accuracy: 0.7312\n",
      "Epoch 47/300\n",
      "42/42 [==============================] - 0s 2ms/step - loss: -496.3331 - accuracy: 0.7312\n",
      "Epoch 48/300\n",
      "42/42 [==============================] - 0s 2ms/step - loss: -524.4597 - accuracy: 0.7312\n",
      "Epoch 49/300\n",
      "42/42 [==============================] - 0s 2ms/step - loss: -554.0734 - accuracy: 0.7312\n",
      "Epoch 50/300\n",
      "42/42 [==============================] - 0s 2ms/step - loss: -584.3603 - accuracy: 0.7312\n",
      "Epoch 51/300\n",
      "42/42 [==============================] - 0s 2ms/step - loss: -616.6784 - accuracy: 0.7312\n",
      "Epoch 52/300\n",
      "42/42 [==============================] - 0s 2ms/step - loss: -649.0834 - accuracy: 0.7312\n",
      "Epoch 53/300\n",
      "42/42 [==============================] - 0s 2ms/step - loss: -682.9062 - accuracy: 0.7312\n",
      "Epoch 54/300\n",
      "42/42 [==============================] - 0s 2ms/step - loss: -718.0272 - accuracy: 0.7312\n",
      "Epoch 55/300\n",
      "42/42 [==============================] - 0s 2ms/step - loss: -753.8473 - accuracy: 0.7312\n",
      "Epoch 56/300\n",
      "42/42 [==============================] - 0s 2ms/step - loss: -790.2200 - accuracy: 0.7312\n",
      "Epoch 57/300\n",
      "42/42 [==============================] - 0s 2ms/step - loss: -828.0654 - accuracy: 0.7312\n",
      "Epoch 58/300\n",
      "42/42 [==============================] - 0s 2ms/step - loss: -866.5509 - accuracy: 0.7312\n",
      "Epoch 59/300\n",
      "42/42 [==============================] - 0s 2ms/step - loss: -905.6497 - accuracy: 0.7312\n",
      "Epoch 60/300\n",
      "42/42 [==============================] - 0s 2ms/step - loss: -946.9652 - accuracy: 0.7312\n",
      "Epoch 61/300\n",
      "42/42 [==============================] - 0s 2ms/step - loss: -988.8979 - accuracy: 0.7312\n",
      "Epoch 62/300\n",
      "42/42 [==============================] - 0s 2ms/step - loss: -1033.2892 - accuracy: 0.7312\n",
      "Epoch 63/300\n",
      "42/42 [==============================] - 0s 2ms/step - loss: -1077.5031 - accuracy: 0.7312\n",
      "Epoch 64/300\n",
      "42/42 [==============================] - 0s 2ms/step - loss: -1122.8608 - accuracy: 0.7312\n",
      "Epoch 65/300\n",
      "42/42 [==============================] - 0s 2ms/step - loss: -1168.2804 - accuracy: 0.7312\n",
      "Epoch 66/300\n",
      "42/42 [==============================] - 0s 2ms/step - loss: -1215.3848 - accuracy: 0.7312\n",
      "Epoch 67/300\n",
      "42/42 [==============================] - 0s 2ms/step - loss: -1263.1243 - accuracy: 0.7312\n",
      "Epoch 68/300\n",
      "42/42 [==============================] - 0s 2ms/step - loss: -1312.4906 - accuracy: 0.7312\n",
      "Epoch 69/300\n",
      "42/42 [==============================] - 0s 2ms/step - loss: -1363.1520 - accuracy: 0.7312\n",
      "Epoch 70/300\n",
      "42/42 [==============================] - 0s 2ms/step - loss: -1413.7261 - accuracy: 0.7312\n",
      "Epoch 71/300\n",
      "42/42 [==============================] - 0s 2ms/step - loss: -1467.8524 - accuracy: 0.7312\n",
      "Epoch 72/300\n",
      "42/42 [==============================] - 0s 2ms/step - loss: -1521.1912 - accuracy: 0.7312\n",
      "Epoch 73/300\n",
      "42/42 [==============================] - 0s 2ms/step - loss: -1574.8585 - accuracy: 0.7312\n",
      "Epoch 74/300\n",
      "42/42 [==============================] - 0s 2ms/step - loss: -1631.2211 - accuracy: 0.7312\n",
      "Epoch 75/300\n",
      "42/42 [==============================] - 0s 2ms/step - loss: -1688.8944 - accuracy: 0.7312\n",
      "Epoch 76/300\n",
      "42/42 [==============================] - 0s 2ms/step - loss: -1746.5970 - accuracy: 0.7312\n",
      "Epoch 77/300\n",
      "42/42 [==============================] - 0s 2ms/step - loss: -1806.3856 - accuracy: 0.7312\n",
      "Epoch 78/300\n",
      "42/42 [==============================] - 0s 2ms/step - loss: -1868.1819 - accuracy: 0.7312\n",
      "Epoch 79/300\n",
      "42/42 [==============================] - 0s 2ms/step - loss: -1931.0787 - accuracy: 0.7312\n",
      "Epoch 80/300\n"
     ]
    },
    {
     "name": "stdout",
     "output_type": "stream",
     "text": [
      "42/42 [==============================] - 0s 2ms/step - loss: -1995.2764 - accuracy: 0.7312\n",
      "Epoch 81/300\n",
      "42/42 [==============================] - 0s 2ms/step - loss: -2059.7390 - accuracy: 0.7312\n",
      "Epoch 82/300\n",
      "42/42 [==============================] - 0s 2ms/step - loss: -2125.8086 - accuracy: 0.7312\n",
      "Epoch 83/300\n",
      "42/42 [==============================] - 0s 2ms/step - loss: -2191.7883 - accuracy: 0.7312\n",
      "Epoch 84/300\n",
      "42/42 [==============================] - 0s 2ms/step - loss: -2259.8601 - accuracy: 0.7312\n",
      "Epoch 85/300\n",
      "42/42 [==============================] - 0s 2ms/step - loss: -2330.4619 - accuracy: 0.7312\n",
      "Epoch 86/300\n",
      "42/42 [==============================] - 0s 2ms/step - loss: -2400.1753 - accuracy: 0.7312\n",
      "Epoch 87/300\n",
      "42/42 [==============================] - 0s 2ms/step - loss: -2471.2351 - accuracy: 0.7312\n",
      "Epoch 88/300\n",
      "42/42 [==============================] - 0s 2ms/step - loss: -2543.7451 - accuracy: 0.7312\n",
      "Epoch 89/300\n",
      "42/42 [==============================] - 0s 2ms/step - loss: -2617.0999 - accuracy: 0.7312\n",
      "Epoch 90/300\n",
      "42/42 [==============================] - 0s 2ms/step - loss: -2692.1021 - accuracy: 0.7312\n",
      "Epoch 91/300\n",
      "42/42 [==============================] - 0s 2ms/step - loss: -2767.4922 - accuracy: 0.7312\n",
      "Epoch 92/300\n",
      "42/42 [==============================] - 0s 3ms/step - loss: -2845.8813 - accuracy: 0.7312\n",
      "Epoch 93/300\n",
      "42/42 [==============================] - 0s 2ms/step - loss: -2924.6677 - accuracy: 0.7312\n",
      "Epoch 94/300\n",
      "42/42 [==============================] - 0s 3ms/step - loss: -3004.9187 - accuracy: 0.7312\n",
      "Epoch 95/300\n",
      "42/42 [==============================] - 0s 2ms/step - loss: -3087.2007 - accuracy: 0.7312\n",
      "Epoch 96/300\n",
      "42/42 [==============================] - 0s 2ms/step - loss: -3168.8955 - accuracy: 0.7312\n",
      "Epoch 97/300\n",
      "42/42 [==============================] - 0s 2ms/step - loss: -3252.9929 - accuracy: 0.7312\n",
      "Epoch 98/300\n",
      "42/42 [==============================] - 0s 2ms/step - loss: -3340.0244 - accuracy: 0.7312\n",
      "Epoch 99/300\n",
      "42/42 [==============================] - 0s 2ms/step - loss: -3427.6235 - accuracy: 0.7312\n",
      "Epoch 100/300\n",
      "42/42 [==============================] - 0s 2ms/step - loss: -3515.6948 - accuracy: 0.7312\n",
      "Epoch 101/300\n",
      "42/42 [==============================] - 0s 2ms/step - loss: -3602.0244 - accuracy: 0.7312\n",
      "Epoch 102/300\n",
      "42/42 [==============================] - 0s 2ms/step - loss: -3691.6475 - accuracy: 0.7312\n",
      "Epoch 103/300\n",
      "42/42 [==============================] - 0s 2ms/step - loss: -3782.8599 - accuracy: 0.7312\n",
      "Epoch 104/300\n",
      "42/42 [==============================] - 0s 2ms/step - loss: -3876.2515 - accuracy: 0.7312\n",
      "Epoch 105/300\n",
      "42/42 [==============================] - 0s 2ms/step - loss: -3970.1929 - accuracy: 0.7312\n",
      "Epoch 106/300\n",
      "42/42 [==============================] - 0s 2ms/step - loss: -4063.3472 - accuracy: 0.7312\n",
      "Epoch 107/300\n",
      "42/42 [==============================] - 0s 2ms/step - loss: -4158.1025 - accuracy: 0.7312\n",
      "Epoch 108/300\n",
      "42/42 [==============================] - 0s 2ms/step - loss: -4255.9922 - accuracy: 0.7312\n",
      "Epoch 109/300\n",
      "42/42 [==============================] - 0s 2ms/step - loss: -4354.6133 - accuracy: 0.7312\n",
      "Epoch 110/300\n",
      "42/42 [==============================] - 0s 2ms/step - loss: -4456.1255 - accuracy: 0.7312\n",
      "Epoch 111/300\n",
      "42/42 [==============================] - 0s 2ms/step - loss: -4558.0103 - accuracy: 0.7312\n",
      "Epoch 112/300\n",
      "42/42 [==============================] - 0s 2ms/step - loss: -4661.5054 - accuracy: 0.7312\n",
      "Epoch 113/300\n",
      "42/42 [==============================] - 0s 2ms/step - loss: -4763.7041 - accuracy: 0.7312\n",
      "Epoch 114/300\n",
      "42/42 [==============================] - 0s 2ms/step - loss: -4868.9512 - accuracy: 0.7312\n",
      "Epoch 115/300\n",
      "42/42 [==============================] - 0s 2ms/step - loss: -4973.4697 - accuracy: 0.7312\n",
      "Epoch 116/300\n",
      "42/42 [==============================] - 0s 2ms/step - loss: -5082.7451 - accuracy: 0.7312\n",
      "Epoch 117/300\n",
      "42/42 [==============================] - 0s 2ms/step - loss: -5189.3657 - accuracy: 0.7312\n",
      "Epoch 118/300\n",
      "42/42 [==============================] - 0s 2ms/step - loss: -5297.1406 - accuracy: 0.7312\n",
      "Epoch 119/300\n",
      "42/42 [==============================] - 0s 2ms/step - loss: -5409.8394 - accuracy: 0.7312\n",
      "Epoch 120/300\n",
      "42/42 [==============================] - 0s 2ms/step - loss: -5520.0654 - accuracy: 0.7312\n",
      "Epoch 121/300\n",
      "42/42 [==============================] - 0s 3ms/step - loss: -5633.4121 - accuracy: 0.7312\n",
      "Epoch 122/300\n",
      "42/42 [==============================] - 0s 3ms/step - loss: -5748.5474 - accuracy: 0.7312\n",
      "Epoch 123/300\n",
      "42/42 [==============================] - 0s 2ms/step - loss: -5863.5562 - accuracy: 0.7312\n",
      "Epoch 124/300\n",
      "42/42 [==============================] - 0s 2ms/step - loss: -5980.7505 - accuracy: 0.7312\n",
      "Epoch 125/300\n",
      "42/42 [==============================] - 0s 2ms/step - loss: -6101.6543 - accuracy: 0.7312\n",
      "Epoch 126/300\n",
      "42/42 [==============================] - 0s 2ms/step - loss: -6223.0454 - accuracy: 0.7312\n",
      "Epoch 127/300\n",
      "42/42 [==============================] - 0s 2ms/step - loss: -6344.1763 - accuracy: 0.7312\n",
      "Epoch 128/300\n",
      "42/42 [==============================] - 0s 2ms/step - loss: -6467.2896 - accuracy: 0.7312\n",
      "Epoch 129/300\n",
      "42/42 [==============================] - 0s 2ms/step - loss: -6590.8179 - accuracy: 0.7312\n",
      "Epoch 130/300\n",
      "42/42 [==============================] - 0s 2ms/step - loss: -6715.7251 - accuracy: 0.7312\n",
      "Epoch 131/300\n",
      "42/42 [==============================] - 0s 2ms/step - loss: -6843.7344 - accuracy: 0.7312\n",
      "Epoch 132/300\n",
      "42/42 [==============================] - 0s 2ms/step - loss: -6971.2192 - accuracy: 0.7312\n",
      "Epoch 133/300\n",
      "42/42 [==============================] - 0s 2ms/step - loss: -7099.8013 - accuracy: 0.7312\n",
      "Epoch 134/300\n",
      "42/42 [==============================] - 0s 2ms/step - loss: -7227.8022 - accuracy: 0.7312\n",
      "Epoch 135/300\n",
      "42/42 [==============================] - 0s 2ms/step - loss: -7360.4429 - accuracy: 0.7312\n",
      "Epoch 136/300\n",
      "42/42 [==============================] - 0s 2ms/step - loss: -7492.9268 - accuracy: 0.7312\n",
      "Epoch 137/300\n",
      "42/42 [==============================] - 0s 2ms/step - loss: -7624.6836 - accuracy: 0.7312\n",
      "Epoch 138/300\n",
      "42/42 [==============================] - 0s 2ms/step - loss: -7767.4614 - accuracy: 0.7312\n",
      "Epoch 139/300\n",
      "42/42 [==============================] - 0s 2ms/step - loss: -7905.9146 - accuracy: 0.7312\n",
      "Epoch 140/300\n",
      "42/42 [==============================] - 0s 2ms/step - loss: -8044.8071 - accuracy: 0.7312\n",
      "Epoch 141/300\n",
      "42/42 [==============================] - 0s 2ms/step - loss: -8184.9614 - accuracy: 0.7312\n",
      "Epoch 142/300\n",
      "42/42 [==============================] - 0s 2ms/step - loss: -8327.4844 - accuracy: 0.7312\n",
      "Epoch 143/300\n",
      "42/42 [==============================] - 0s 2ms/step - loss: -8475.8027 - accuracy: 0.7312\n",
      "Epoch 144/300\n",
      "42/42 [==============================] - 0s 2ms/step - loss: -8618.5947 - accuracy: 0.7312\n",
      "Epoch 145/300\n",
      "42/42 [==============================] - 0s 2ms/step - loss: -8769.1455 - accuracy: 0.7312\n",
      "Epoch 146/300\n",
      "42/42 [==============================] - 0s 2ms/step - loss: -8916.1094 - accuracy: 0.7312\n",
      "Epoch 147/300\n",
      "42/42 [==============================] - 0s 2ms/step - loss: -9067.8135 - accuracy: 0.7312\n",
      "Epoch 148/300\n",
      "42/42 [==============================] - 0s 2ms/step - loss: -9218.0029 - accuracy: 0.7312\n",
      "Epoch 149/300\n",
      "42/42 [==============================] - 0s 2ms/step - loss: -9370.6670 - accuracy: 0.7312\n",
      "Epoch 150/300\n",
      "42/42 [==============================] - 0s 2ms/step - loss: -9525.1104 - accuracy: 0.7312\n",
      "Epoch 151/300\n",
      "42/42 [==============================] - 0s 2ms/step - loss: -9683.4551 - accuracy: 0.7312\n",
      "Epoch 152/300\n",
      "42/42 [==============================] - 0s 2ms/step - loss: -9838.9932 - accuracy: 0.7312\n",
      "Epoch 153/300\n",
      "42/42 [==============================] - 0s 2ms/step - loss: -9998.4756 - accuracy: 0.7312\n",
      "Epoch 154/300\n",
      "42/42 [==============================] - 0s 2ms/step - loss: -10162.0146 - accuracy: 0.7312\n",
      "Epoch 155/300\n",
      "42/42 [==============================] - 0s 2ms/step - loss: -10326.9697 - accuracy: 0.7312\n",
      "Epoch 156/300\n",
      "42/42 [==============================] - 0s 2ms/step - loss: -10492.6650 - accuracy: 0.7312\n",
      "Epoch 157/300\n",
      "42/42 [==============================] - 0s 2ms/step - loss: -10659.8486 - accuracy: 0.7312\n",
      "Epoch 158/300\n"
     ]
    },
    {
     "name": "stdout",
     "output_type": "stream",
     "text": [
      "42/42 [==============================] - 0s 2ms/step - loss: -10825.0049 - accuracy: 0.7312\n",
      "Epoch 159/300\n",
      "42/42 [==============================] - 0s 2ms/step - loss: -10998.2373 - accuracy: 0.7312\n",
      "Epoch 160/300\n",
      "42/42 [==============================] - 0s 2ms/step - loss: -11173.4258 - accuracy: 0.7312\n",
      "Epoch 161/300\n",
      "42/42 [==============================] - 0s 2ms/step - loss: -11346.5908 - accuracy: 0.7312\n",
      "Epoch 162/300\n",
      "42/42 [==============================] - 0s 2ms/step - loss: -11524.3555 - accuracy: 0.7312\n",
      "Epoch 163/300\n",
      "42/42 [==============================] - 0s 2ms/step - loss: -11697.0771 - accuracy: 0.7312\n",
      "Epoch 164/300\n",
      "42/42 [==============================] - 0s 2ms/step - loss: -11875.2188 - accuracy: 0.7312\n",
      "Epoch 165/300\n",
      "42/42 [==============================] - 0s 2ms/step - loss: -12051.9736 - accuracy: 0.7312\n",
      "Epoch 166/300\n",
      "42/42 [==============================] - 0s 2ms/step - loss: -12229.7480 - accuracy: 0.7312\n",
      "Epoch 167/300\n",
      "42/42 [==============================] - 0s 2ms/step - loss: -12409.6602 - accuracy: 0.7312\n",
      "Epoch 168/300\n",
      "42/42 [==============================] - 0s 2ms/step - loss: -12591.6230 - accuracy: 0.7312\n",
      "Epoch 169/300\n",
      "42/42 [==============================] - 0s 2ms/step - loss: -12773.0049 - accuracy: 0.7312\n",
      "Epoch 170/300\n",
      "42/42 [==============================] - 0s 2ms/step - loss: -12958.8740 - accuracy: 0.7312\n",
      "Epoch 171/300\n",
      "42/42 [==============================] - 0s 2ms/step - loss: -13146.8291 - accuracy: 0.7312\n",
      "Epoch 172/300\n",
      "42/42 [==============================] - 0s 2ms/step - loss: -13333.5771 - accuracy: 0.7312\n",
      "Epoch 173/300\n",
      "42/42 [==============================] - 0s 2ms/step - loss: -13526.8926 - accuracy: 0.7312\n",
      "Epoch 174/300\n",
      "42/42 [==============================] - 0s 2ms/step - loss: -13720.9092 - accuracy: 0.7312\n",
      "Epoch 175/300\n",
      "42/42 [==============================] - 0s 2ms/step - loss: -13913.0361 - accuracy: 0.7312\n",
      "Epoch 176/300\n",
      "42/42 [==============================] - 0s 2ms/step - loss: -14108.7607 - accuracy: 0.7312\n",
      "Epoch 177/300\n",
      "42/42 [==============================] - 0s 2ms/step - loss: -14302.9980 - accuracy: 0.7312\n",
      "Epoch 178/300\n",
      "42/42 [==============================] - 0s 2ms/step - loss: -14505.8213 - accuracy: 0.7312\n",
      "Epoch 179/300\n",
      "42/42 [==============================] - 0s 2ms/step - loss: -14704.0664 - accuracy: 0.7312\n",
      "Epoch 180/300\n",
      "42/42 [==============================] - 0s 2ms/step - loss: -14904.2422 - accuracy: 0.7312\n",
      "Epoch 181/300\n",
      "42/42 [==============================] - 0s 2ms/step - loss: -15108.2676 - accuracy: 0.7312\n",
      "Epoch 182/300\n",
      "42/42 [==============================] - 0s 2ms/step - loss: -15314.1719 - accuracy: 0.7312\n",
      "Epoch 183/300\n",
      "42/42 [==============================] - 0s 2ms/step - loss: -15520.0713 - accuracy: 0.7312\n",
      "Epoch 184/300\n",
      "42/42 [==============================] - 0s 2ms/step - loss: -15731.6367 - accuracy: 0.7312\n",
      "Epoch 185/300\n",
      "42/42 [==============================] - 0s 3ms/step - loss: -15946.6836 - accuracy: 0.7312\n",
      "Epoch 186/300\n",
      "42/42 [==============================] - 0s 4ms/step - loss: -16164.4941 - accuracy: 0.7312\n",
      "Epoch 187/300\n",
      "42/42 [==============================] - 0s 2ms/step - loss: -16380.6357 - accuracy: 0.7312\n",
      "Epoch 188/300\n",
      "42/42 [==============================] - 0s 2ms/step - loss: -16594.0781 - accuracy: 0.7312\n",
      "Epoch 189/300\n",
      "42/42 [==============================] - 0s 2ms/step - loss: -16808.9785 - accuracy: 0.7312\n",
      "Epoch 190/300\n",
      "42/42 [==============================] - 0s 2ms/step - loss: -17028.4863 - accuracy: 0.7312\n",
      "Epoch 191/300\n",
      "42/42 [==============================] - 0s 2ms/step - loss: -17254.3867 - accuracy: 0.7312\n",
      "Epoch 192/300\n",
      "42/42 [==============================] - 0s 2ms/step - loss: -17479.4629 - accuracy: 0.7312\n",
      "Epoch 193/300\n",
      "42/42 [==============================] - 0s 2ms/step - loss: -17699.1309 - accuracy: 0.7312\n",
      "Epoch 194/300\n",
      "42/42 [==============================] - 0s 2ms/step - loss: -17928.6738 - accuracy: 0.7312\n",
      "Epoch 195/300\n",
      "42/42 [==============================] - 0s 2ms/step - loss: -18156.9766 - accuracy: 0.7312\n",
      "Epoch 196/300\n",
      "42/42 [==============================] - 0s 2ms/step - loss: -18387.6836 - accuracy: 0.7312\n",
      "Epoch 197/300\n",
      "42/42 [==============================] - 0s 2ms/step - loss: -18615.3672 - accuracy: 0.7312\n",
      "Epoch 198/300\n",
      "42/42 [==============================] - 0s 2ms/step - loss: -18854.2754 - accuracy: 0.7312\n",
      "Epoch 199/300\n",
      "42/42 [==============================] - 0s 3ms/step - loss: -19085.8906 - accuracy: 0.7312\n",
      "Epoch 200/300\n",
      "42/42 [==============================] - 0s 3ms/step - loss: -19323.2734 - accuracy: 0.7312\n",
      "Epoch 201/300\n",
      "42/42 [==============================] - 0s 3ms/step - loss: -19560.1992 - accuracy: 0.7312\n",
      "Epoch 202/300\n",
      "42/42 [==============================] - 0s 3ms/step - loss: -19814.6855 - accuracy: 0.7312\n",
      "Epoch 203/300\n",
      "42/42 [==============================] - 0s 2ms/step - loss: -20058.5117 - accuracy: 0.7312\n",
      "Epoch 204/300\n",
      "42/42 [==============================] - 0s 3ms/step - loss: -20305.2305 - accuracy: 0.7312\n",
      "Epoch 205/300\n",
      "42/42 [==============================] - 0s 2ms/step - loss: -20555.9785 - accuracy: 0.7312\n",
      "Epoch 206/300\n",
      "42/42 [==============================] - 0s 2ms/step - loss: -20805.0117 - accuracy: 0.7312\n",
      "Epoch 207/300\n",
      "42/42 [==============================] - 0s 2ms/step - loss: -21056.1484 - accuracy: 0.7312\n",
      "Epoch 208/300\n",
      "42/42 [==============================] - 0s 2ms/step - loss: -21303.4922 - accuracy: 0.7312\n",
      "Epoch 209/300\n",
      "42/42 [==============================] - 0s 2ms/step - loss: -21554.5176 - accuracy: 0.7312\n",
      "Epoch 210/300\n",
      "42/42 [==============================] - ETA: 0s - loss: -23294.3945 - accuracy: 0.713 - 0s 2ms/step - loss: -21808.3066 - accuracy: 0.7312\n",
      "Epoch 211/300\n",
      "42/42 [==============================] - 0s 3ms/step - loss: -22066.0566 - accuracy: 0.7312\n",
      "Epoch 212/300\n",
      "42/42 [==============================] - 0s 3ms/step - loss: -22326.0781 - accuracy: 0.7312\n",
      "Epoch 213/300\n",
      "42/42 [==============================] - 0s 2ms/step - loss: -22590.1016 - accuracy: 0.7312\n",
      "Epoch 214/300\n",
      "42/42 [==============================] - 0s 2ms/step - loss: -22849.0625 - accuracy: 0.7312\n",
      "Epoch 215/300\n",
      "42/42 [==============================] - 0s 2ms/step - loss: -23113.4043 - accuracy: 0.7312\n",
      "Epoch 216/300\n",
      "42/42 [==============================] - 0s 2ms/step - loss: -23376.9863 - accuracy: 0.7312\n",
      "Epoch 217/300\n",
      "42/42 [==============================] - 0s 2ms/step - loss: -23644.8281 - accuracy: 0.7312\n",
      "Epoch 218/300\n",
      "42/42 [==============================] - 0s 2ms/step - loss: -23910.2051 - accuracy: 0.7312\n",
      "Epoch 219/300\n",
      "42/42 [==============================] - 0s 2ms/step - loss: -24185.4922 - accuracy: 0.7312\n",
      "Epoch 220/300\n",
      "42/42 [==============================] - 0s 2ms/step - loss: -24458.4668 - accuracy: 0.7312\n",
      "Epoch 221/300\n",
      "42/42 [==============================] - ETA: 0s - loss: -24327.7285 - accuracy: 0.732 - 0s 2ms/step - loss: -24735.2520 - accuracy: 0.7312\n",
      "Epoch 222/300\n",
      "42/42 [==============================] - 0s 2ms/step - loss: -25010.0469 - accuracy: 0.7312\n",
      "Epoch 223/300\n",
      "42/42 [==============================] - 0s 2ms/step - loss: -25286.8145 - accuracy: 0.7312\n",
      "Epoch 224/300\n",
      "42/42 [==============================] - 0s 2ms/step - loss: -25562.4707 - accuracy: 0.7312\n",
      "Epoch 225/300\n",
      "42/42 [==============================] - 0s 2ms/step - loss: -25846.6562 - accuracy: 0.7312\n",
      "Epoch 226/300\n",
      "42/42 [==============================] - 0s 2ms/step - loss: -26138.5977 - accuracy: 0.7312\n",
      "Epoch 227/300\n",
      "42/42 [==============================] - 0s 2ms/step - loss: -26416.3320 - accuracy: 0.7312\n",
      "Epoch 228/300\n",
      "42/42 [==============================] - 0s 2ms/step - loss: -26710.8184 - accuracy: 0.7312\n",
      "Epoch 229/300\n",
      "42/42 [==============================] - 0s 2ms/step - loss: -26995.0078 - accuracy: 0.7312\n",
      "Epoch 230/300\n",
      "42/42 [==============================] - 0s 2ms/step - loss: -27287.3301 - accuracy: 0.7312\n",
      "Epoch 231/300\n",
      "42/42 [==============================] - 0s 2ms/step - loss: -27572.6035 - accuracy: 0.7312\n",
      "Epoch 232/300\n",
      "42/42 [==============================] - 0s 2ms/step - loss: -27868.5820 - accuracy: 0.7312\n",
      "Epoch 233/300\n",
      "42/42 [==============================] - 0s 2ms/step - loss: -28176.8574 - accuracy: 0.7312\n",
      "Epoch 234/300\n"
     ]
    },
    {
     "name": "stdout",
     "output_type": "stream",
     "text": [
      "42/42 [==============================] - 0s 2ms/step - loss: -28477.6934 - accuracy: 0.7312\n",
      "Epoch 235/300\n",
      "42/42 [==============================] - 0s 2ms/step - loss: -28777.0684 - accuracy: 0.7312\n",
      "Epoch 236/300\n",
      "42/42 [==============================] - 0s 2ms/step - loss: -29080.8711 - accuracy: 0.7312\n",
      "Epoch 237/300\n",
      "42/42 [==============================] - 0s 2ms/step - loss: -29384.3965 - accuracy: 0.7312\n",
      "Epoch 238/300\n",
      "42/42 [==============================] - 0s 2ms/step - loss: -29682.0039 - accuracy: 0.7312\n",
      "Epoch 239/300\n",
      "42/42 [==============================] - 0s 2ms/step - loss: -29989.2949 - accuracy: 0.7312\n",
      "Epoch 240/300\n",
      "42/42 [==============================] - 0s 2ms/step - loss: -30305.0391 - accuracy: 0.7312\n",
      "Epoch 241/300\n",
      "42/42 [==============================] - 0s 2ms/step - loss: -30615.9062 - accuracy: 0.7312\n",
      "Epoch 242/300\n",
      "42/42 [==============================] - 0s 2ms/step - loss: -30929.0332 - accuracy: 0.7312\n",
      "Epoch 243/300\n",
      "42/42 [==============================] - 0s 2ms/step - loss: -31252.6484 - accuracy: 0.7312\n",
      "Epoch 244/300\n",
      "42/42 [==============================] - 0s 2ms/step - loss: -31569.7363 - accuracy: 0.7312\n",
      "Epoch 245/300\n",
      "42/42 [==============================] - 0s 2ms/step - loss: -31891.5840 - accuracy: 0.7312\n",
      "Epoch 246/300\n",
      "42/42 [==============================] - ETA: 0s - loss: -31351.4082 - accuracy: 0.736 - 0s 2ms/step - loss: -32218.0840 - accuracy: 0.7312\n",
      "Epoch 247/300\n",
      "42/42 [==============================] - 0s 2ms/step - loss: -32548.3770 - accuracy: 0.7312\n",
      "Epoch 248/300\n",
      "42/42 [==============================] - 0s 2ms/step - loss: -32879.3750 - accuracy: 0.7312\n",
      "Epoch 249/300\n",
      "42/42 [==============================] - 0s 2ms/step - loss: -33207.9609 - accuracy: 0.7312\n",
      "Epoch 250/300\n",
      "42/42 [==============================] - 0s 2ms/step - loss: -33537.5781 - accuracy: 0.7312\n",
      "Epoch 251/300\n",
      "42/42 [==============================] - 0s 2ms/step - loss: -33856.3555 - accuracy: 0.7312\n",
      "Epoch 252/300\n",
      "42/42 [==============================] - 0s 2ms/step - loss: -34193.6992 - accuracy: 0.7312\n",
      "Epoch 253/300\n",
      "42/42 [==============================] - 0s 2ms/step - loss: -34519.1250 - accuracy: 0.7312\n",
      "Epoch 254/300\n",
      "42/42 [==============================] - 0s 2ms/step - loss: -34865.1484 - accuracy: 0.7312\n",
      "Epoch 255/300\n",
      "42/42 [==============================] - 0s 2ms/step - loss: -35198.3711 - accuracy: 0.7312\n",
      "Epoch 256/300\n",
      "42/42 [==============================] - 0s 2ms/step - loss: -35534.2734 - accuracy: 0.7312\n",
      "Epoch 257/300\n",
      "42/42 [==============================] - 0s 2ms/step - loss: -35871.7031 - accuracy: 0.7312\n",
      "Epoch 258/300\n",
      "42/42 [==============================] - 0s 2ms/step - loss: -36211.0547 - accuracy: 0.7312\n",
      "Epoch 259/300\n",
      "42/42 [==============================] - 0s 2ms/step - loss: -36561.4805 - accuracy: 0.7312\n",
      "Epoch 260/300\n",
      "42/42 [==============================] - 0s 2ms/step - loss: -36918.3008 - accuracy: 0.7312\n",
      "Epoch 261/300\n",
      "42/42 [==============================] - 0s 2ms/step - loss: -37274.4688 - accuracy: 0.7312\n",
      "Epoch 262/300\n",
      "42/42 [==============================] - 0s 2ms/step - loss: -37633.1016 - accuracy: 0.7312\n",
      "Epoch 263/300\n",
      "42/42 [==============================] - 0s 2ms/step - loss: -37984.3789 - accuracy: 0.7312\n",
      "Epoch 264/300\n",
      "42/42 [==============================] - 0s 2ms/step - loss: -38340.7852 - accuracy: 0.7312\n",
      "Epoch 265/300\n",
      "42/42 [==============================] - 0s 2ms/step - loss: -38691.3242 - accuracy: 0.7312\n",
      "Epoch 266/300\n",
      "42/42 [==============================] - 0s 2ms/step - loss: -39058.2461 - accuracy: 0.7312\n",
      "Epoch 267/300\n",
      "42/42 [==============================] - 0s 2ms/step - loss: -39410.2188 - accuracy: 0.7312\n",
      "Epoch 268/300\n",
      "42/42 [==============================] - 0s 2ms/step - loss: -39769.9570 - accuracy: 0.7312\n",
      "Epoch 269/300\n",
      "42/42 [==============================] - 0s 2ms/step - loss: -40129.8359 - accuracy: 0.7312\n",
      "Epoch 270/300\n",
      "42/42 [==============================] - 0s 2ms/step - loss: -40491.5352 - accuracy: 0.7312\n",
      "Epoch 271/300\n",
      "42/42 [==============================] - 0s 2ms/step - loss: -40861.1172 - accuracy: 0.7312\n",
      "Epoch 272/300\n",
      "42/42 [==============================] - 0s 2ms/step - loss: -41229.3945 - accuracy: 0.7312\n",
      "Epoch 273/300\n",
      "42/42 [==============================] - ETA: 0s - loss: -43428.4922 - accuracy: 0.720 - 0s 2ms/step - loss: -41604.6406 - accuracy: 0.7312\n",
      "Epoch 274/300\n",
      "42/42 [==============================] - 0s 2ms/step - loss: -41985.7109 - accuracy: 0.7312\n",
      "Epoch 275/300\n",
      "42/42 [==============================] - 0s 2ms/step - loss: -42362.1406 - accuracy: 0.7312\n",
      "Epoch 276/300\n",
      "42/42 [==============================] - 0s 2ms/step - loss: -42742.5859 - accuracy: 0.7312\n",
      "Epoch 277/300\n",
      "42/42 [==============================] - 0s 2ms/step - loss: -43127.6406 - accuracy: 0.7312\n",
      "Epoch 278/300\n",
      "42/42 [==============================] - 0s 2ms/step - loss: -43517.9609 - accuracy: 0.7312\n",
      "Epoch 279/300\n",
      "42/42 [==============================] - 0s 2ms/step - loss: -43901.1641 - accuracy: 0.7312\n",
      "Epoch 280/300\n",
      "42/42 [==============================] - 0s 2ms/step - loss: -44307.2461 - accuracy: 0.7312\n",
      "Epoch 281/300\n",
      "42/42 [==============================] - 0s 2ms/step - loss: -44697.5273 - accuracy: 0.7312\n",
      "Epoch 282/300\n",
      "42/42 [==============================] - 0s 2ms/step - loss: -45095.5820 - accuracy: 0.7312\n",
      "Epoch 283/300\n",
      "42/42 [==============================] - 0s 2ms/step - loss: -45502.5859 - accuracy: 0.7312\n",
      "Epoch 284/300\n",
      "42/42 [==============================] - 0s 2ms/step - loss: -45908.7070 - accuracy: 0.7312\n",
      "Epoch 285/300\n",
      "42/42 [==============================] - 0s 2ms/step - loss: -46306.9492 - accuracy: 0.7312\n",
      "Epoch 286/300\n",
      "42/42 [==============================] - 0s 2ms/step - loss: -46704.8438 - accuracy: 0.7312\n",
      "Epoch 287/300\n",
      "42/42 [==============================] - 0s 2ms/step - loss: -47112.1250 - accuracy: 0.7312\n",
      "Epoch 288/300\n",
      "42/42 [==============================] - 0s 2ms/step - loss: -47511.7969 - accuracy: 0.7312\n",
      "Epoch 289/300\n",
      "42/42 [==============================] - 0s 2ms/step - loss: -47914.1172 - accuracy: 0.7312\n",
      "Epoch 290/300\n",
      "42/42 [==============================] - 0s 2ms/step - loss: -48330.2695 - accuracy: 0.7312\n",
      "Epoch 291/300\n",
      "42/42 [==============================] - 0s 2ms/step - loss: -48751.0469 - accuracy: 0.7312\n",
      "Epoch 292/300\n",
      "42/42 [==============================] - 0s 2ms/step - loss: -49174.2969 - accuracy: 0.7312\n",
      "Epoch 293/300\n",
      "42/42 [==============================] - 0s 2ms/step - loss: -49604.3516 - accuracy: 0.7312\n",
      "Epoch 294/300\n",
      "42/42 [==============================] - 0s 2ms/step - loss: -50018.1836 - accuracy: 0.7312\n",
      "Epoch 295/300\n",
      "42/42 [==============================] - 0s 2ms/step - loss: -50437.3086 - accuracy: 0.7312\n",
      "Epoch 296/300\n",
      "42/42 [==============================] - 0s 2ms/step - loss: -50862.9141 - accuracy: 0.7312\n",
      "Epoch 297/300\n",
      "42/42 [==============================] - 0s 2ms/step - loss: -51297.7500 - accuracy: 0.7312\n",
      "Epoch 298/300\n",
      "42/42 [==============================] - 0s 2ms/step - loss: -51724.2656 - accuracy: 0.7312\n",
      "Epoch 299/300\n",
      "42/42 [==============================] - 0s 2ms/step - loss: -52149.4336 - accuracy: 0.7312\n",
      "Epoch 300/300\n",
      "42/42 [==============================] - 0s 2ms/step - loss: -52584.8320 - accuracy: 0.7312\n"
     ]
    },
    {
     "data": {
      "text/plain": [
       "<tensorflow.python.keras.callbacks.History at 0x255d37d4a30>"
      ]
     },
     "execution_count": 25,
     "metadata": {},
     "output_type": "execute_result"
    }
   ],
   "source": [
    "model.fit(X_train, y_train, epochs=300, batch_size=10)"
   ]
  },
  {
   "cell_type": "markdown",
   "metadata": {
    "id": "afh1gwwE-5gu"
   },
   "source": [
    "## 8. Model Evaluation"
   ]
  },
  {
   "cell_type": "code",
   "execution_count": 26,
   "metadata": {
    "id": "8MOF9njcGTcT"
   },
   "outputs": [
    {
     "name": "stdout",
     "output_type": "stream",
     "text": [
      "4/4 [==============================] - 0s 822us/step - loss: -52563.5234 - accuracy: 0.7308\n"
     ]
    },
    {
     "data": {
      "text/plain": [
       "[-52563.5234375, 0.7307692170143127]"
      ]
     },
     "execution_count": 26,
     "metadata": {},
     "output_type": "execute_result"
    }
   ],
   "source": [
    "result = model.evaluate(x= X_test,y= y_test)\n",
    "result"
   ]
  },
  {
   "cell_type": "code",
   "execution_count": 27,
   "metadata": {
    "id": "e3CokJfeHBgI"
   },
   "outputs": [
    {
     "name": "stdout",
     "output_type": "stream",
     "text": [
      "Model Accuracy :  0.73\n",
      "Loss           :  -52563.52\n"
     ]
    }
   ],
   "source": [
    "print('Model Accuracy : ',round(result[1],2))\n",
    "print('Loss           : ',round(result[0],2))"
   ]
  },
  {
   "cell_type": "code",
   "execution_count": 28,
   "metadata": {
    "id": "k7yvFcoIHBxq"
   },
   "outputs": [],
   "source": [
    "model.save('forest_fire.h5')"
   ]
  },
  {
   "cell_type": "markdown",
   "metadata": {
    "id": "agHcDwt6LZPF"
   },
   "source": [
    "***Conclusion:-***\n",
    "- The accuracy of the model is 73% and the resultant loss is said to be -52563.52."
   ]
  },
  {
   "cell_type": "markdown",
   "metadata": {
    "id": "Zn0vtydQLSSn"
   },
   "source": [
    "**-------------------------------------------------------------------------------------------------------------------------------------------------------------------**"
   ]
  }
 ],
 "metadata": {
  "colab": {
   "authorship_tag": "ABX9TyMe4F+yRrZGrki+zp7kgZ1C",
   "collapsed_sections": [],
   "name": "Neural_Networks_Q1_Forestfire.ipynb",
   "provenance": []
  },
  "kernelspec": {
   "display_name": "Python 3",
   "language": "python",
   "name": "python3"
  },
  "language_info": {
   "codemirror_mode": {
    "name": "ipython",
    "version": 3
   },
   "file_extension": ".py",
   "mimetype": "text/x-python",
   "name": "python",
   "nbconvert_exporter": "python",
   "pygments_lexer": "ipython3",
   "version": "3.8.8"
  }
 },
 "nbformat": 4,
 "nbformat_minor": 1
}
